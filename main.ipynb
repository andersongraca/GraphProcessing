{
 "cells": [
  {
   "cell_type": "code",
   "execution_count": 1,
   "id": "35ebd49b",
   "metadata": {},
   "outputs": [],
   "source": [
    "import numpy as np\n",
    "import os\n",
    "import pandas as pd\n",
    "from tqdm.notebook import tqdm\n",
    "import copy\n",
    "import sys\n",
    "import time"
   ]
  },
  {
   "cell_type": "code",
   "execution_count": 2,
   "id": "4bf1f824",
   "metadata": {},
   "outputs": [],
   "source": [
    "class Graph:\n",
    "    \n",
    "    def __init__(self, n):\n",
    "        self.n_nodes = n\n",
    "        self.has_matrix = False\n",
    "        self.matrix_error_size = None\n",
    "        try:\n",
    "            self.matrix = np.zeros((n, n), dtype=\"uint8\")\n",
    "            self.has_matrix = True\n",
    "        except MemoryError as error:\n",
    "            print(\"Cannot create matrix >>\", error)\n",
    "            ea = str(error)\n",
    "            eb = ea[ea.index(\"iB for\")-1]\n",
    "            eb_m = 10**3 if eb==\"G\" else 10**6\n",
    "            self.matrix_error_size = float(ea[ea.index(\"allocate\")+9:ea.index(\"iB for\")-2]) * eb_m\n",
    "        self.nodes = [set() for i in range(n)]\n",
    "    \n",
    "    \n",
    "    def add_edge(self, v, w):\n",
    "        \n",
    "        if v == w:\n",
    "            if self.has_matrix:\n",
    "                self.matrix[v-1, v-1] = 2\n",
    "            self.nodes[v-1].add(v)\n",
    "            \n",
    "        else:\n",
    "            if self.has_matrix:\n",
    "                self.matrix[v-1, w-1] = 1\n",
    "                self.matrix[w-1, v-1] = 1\n",
    "            self.nodes[v-1].add(w)\n",
    "            self.nodes[w-1].add(v)\n",
    "    \n",
    "    def get_node(self, v):\n",
    "        return self.nodes[v-1]\n",
    "    \n",
    "    def get_lists(self):\n",
    "        return self.nodes\n",
    "    \n",
    "    def get_node_edges(self):\n",
    "        return {i+1:self.nodes[i] for i in range(self.n_nodes)}\n",
    "    \n",
    "    def get_matrix(self):\n",
    "        if self.has_matrix:\n",
    "            return self.matrix\n",
    "        return None\n",
    "    \n",
    "    def get_matrix_beautiful(self):\n",
    "        if self.has_matrix:\n",
    "            return pd.DataFrame(self.matrix, columns=np.arange(1, self.n_nodes+1), index=np.arange(1, self.n_nodes+1))\n",
    "        return None\n",
    "    \n",
    "    def sort_neighbors(self):\n",
    "        self.nodes = [sorted(n) for n in self.nodes]"
   ]
  },
  {
   "cell_type": "code",
   "execution_count": 3,
   "id": "79071db3",
   "metadata": {},
   "outputs": [],
   "source": [
    "def open_graph_txt(filename, extra=False):\n",
    "    with open(filename, \"r\") as f:\n",
    "        lines = f.read().split(\"\\n\")\n",
    "        n_nodes = int(lines[0])\n",
    "        edges = [tuple(map(lambda i: int(i), line.split(\" \"))) for line in lines[1:-1]]\n",
    "    \n",
    "    graph = Graph(n_nodes)\n",
    "    for v, w in edges:\n",
    "        graph.add_edge(v, w)\n",
    "    \n",
    "    if extra:\n",
    "        return graph, n_nodes, edges\n",
    "    \n",
    "    return graph"
   ]
  },
  {
   "cell_type": "code",
   "execution_count": 4,
   "id": "cc3156b6",
   "metadata": {},
   "outputs": [],
   "source": [
    "def graph_statistics(graph):\n",
    "    print(\"Número de vértices:\", graph.n_nodes)\n",
    "    if graph.has_matrix:\n",
    "        print(\"Número de arestas:\", graph.get_matrix().sum()/2)\n",
    "        print(\"Grau mínimo:\", graph.get_matrix().sum(axis=0).min())\n",
    "        print(\"Grau máximo:\", graph.get_matrix().sum(axis=0).max())\n",
    "      \n",
    "\n",
    "      "
   ]
  },
  {
   "cell_type": "code",
   "execution_count": 9,
   "id": "10052ea2",
   "metadata": {},
   "outputs": [],
   "source": [
    "class MinimumPath:\n",
    "    \n",
    "    def __init__(self, graph):\n",
    "        self.graph = graph\n",
    "        self.matrix = np.full((graph.n_nodes, graph.n_nodes), fill_value=-1, dtype=\"int32\")\n",
    "        self.run()\n",
    "    \n",
    "    def run(self):\n",
    "        for v in tqdm(range(1, self.graph.n_nodes+1)):\n",
    "            bfsl = BFSL(self.graph, v)\n",
    "            bfsl.search()\n",
    "            for bfsl_node_index in np.argwhere(bfsl.visited == 1).reshape(-1):\n",
    "                self.matrix[v-1, bfsl_node_index] = bfsl.level[bfsl_node_index]\n",
    "            del bfsl\n",
    "    \n",
    "    def get_distance(self, u, v):\n",
    "        return self.matrix[u-1, v-1]\n",
    "    \n",
    "    def get_diameter(self):\n",
    "        return np.max(self.matrix)\n",
    "    \n",
    "    def get_matrix(self):\n",
    "        return self.matrix\n",
    "    \n",
    "    def get_matrix_beautiful(self):\n",
    "        return pd.DataFrame(self.matrix, columns=np.arange(1, self.graph.n_nodes+1), index=np.arange(1, self.graph.n_nodes+1))\n",
    "    "
   ]
  },
  {
   "cell_type": "code",
   "execution_count": 10,
   "id": "30cd8b26",
   "metadata": {},
   "outputs": [],
   "source": [
    "class Components:\n",
    "    \n",
    "    def __init__(self, graph):\n",
    "        self.graph = graph\n",
    "        self.visited = np.zeros(graph.n_nodes, dtype=\"uint8\")\n",
    "        self.components = []\n",
    "        \n",
    "        while np.argwhere(self.visited == 0).reshape(-1).shape[0] > 0:\n",
    "            root = np.argwhere(self.visited == 0).reshape(-1)[0] + 1\n",
    "\n",
    "            bfsl = BFSL(self.graph, root)\n",
    "            bfsl.search()\n",
    "            \n",
    "            bfsl_visited_index = np.argwhere(bfsl.visited == 1).reshape(-1)\n",
    "            \n",
    "            self.visited[bfsl_visited_index] = 1\n",
    "            self.components.append((bfsl_visited_index+1).tolist())\n",
    "\n",
    "    def get_components(self):\n",
    "        a = sorted(self.components, key=lambda x: len(x), reverse=True)\n",
    "        b = [len(x) for x in a]\n",
    "        c = list(zip(b, a))\n",
    "        return c\n"
   ]
  },
  {
   "cell_type": "code",
   "execution_count": null,
   "metadata": {},
   "outputs": [],
   "source": [
    "dfsm = DFSM(graph, 1)\n",
    "dfsm.search()\n",
    "\n",
    "print(\"DFSM Result:\")\n",
    "dfsm_df = pd.DataFrame(list(zip(range(1, dfsm.graph.n_nodes+1), dfsm.level, dfsm.parent)), columns=[\"node\", \"level\", \"parent\"], index=np.arange(1, dfsm.graph.n_nodes+1))\n",
    "dfsm_df.to_csv(\"./outputs/dfsm_test.csv\")"
   ]
  },
  {
   "cell_type": "code",
   "execution_count": null,
   "metadata": {},
   "outputs": [],
   "source": [
    "minpath = MinimumPath(graph)\n",
    "\n",
    "print(\"Minpath Distance:\", minpath.get_distance(1, 3))\n",
    "print(\"Minpath Diameter:\", minpath.get_diameter())"
   ]
  },
  {
   "cell_type": "code",
   "execution_count": null,
   "metadata": {},
   "outputs": [],
   "source": [
    "components = Components(graph)\n",
    "\n",
    "with open(\"./outputs/components_test.txt\", mode=\"w\") as out:\n",
    "    for line in components.get_components():\n",
    "        out.write(str(line))\n",
    "        out.write(\"\\n\")"
   ]
  },
  {
   "cell_type": "code",
   "execution_count": null,
   "metadata": {},
   "outputs": [],
   "source": []
  }
 ],
 "metadata": {
  "kernelspec": {
   "display_name": "Python 3.10.8 64-bit (microsoft store)",
   "language": "python",
   "name": "python3"
  },
  "language_info": {
   "codemirror_mode": {
    "name": "ipython",
    "version": 3
   },
   "file_extension": ".py",
   "mimetype": "text/x-python",
   "name": "python",
   "nbconvert_exporter": "python",
   "pygments_lexer": "ipython3",
   "version": "3.10.8"
  },
  "vscode": {
   "interpreter": {
    "hash": "7109200ff901c5dcb4364409db05a1e4eb14700b1c8bf1e3e6f1c2a9e5b81a96"
   }
  }
 },
 "nbformat": 4,
 "nbformat_minor": 5
}
